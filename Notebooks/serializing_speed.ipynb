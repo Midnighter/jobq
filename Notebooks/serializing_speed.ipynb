{
 "metadata": {
  "name": ""
 },
 "nbformat": 3,
 "nbformat_minor": 0,
 "worksheets": [
  {
   "cells": [
    {
     "cell_type": "heading",
     "level": 1,
     "metadata": {},
     "source": [
      "Speed Tests for Object Serialization"
     ]
    },
    {
     "cell_type": "code",
     "collapsed": false,
     "input": [
      "import pickle\n",
      "import cPickle\n",
      "import json\n",
      "\n",
      "import yaml\n",
      "import beanstalkc\n",
      "\n",
      "from uuid import uuid4"
     ],
     "language": "python",
     "metadata": {},
     "outputs": [],
     "prompt_number": 1
    },
    {
     "cell_type": "markdown",
     "metadata": {},
     "source": [
      "`beanstalkc` by default uses `PyYAML` to turn Python objects into a `str`. In principle, we could replace that mechnanism with others (for speed). Consider that both `pickle` (through `cPickle`) and `yaml` (via `libyaml`) have `C` versions and that `JSON` is limited to basic types."
     ]
    },
    {
     "cell_type": "code",
     "collapsed": false,
     "input": [
      "in_stalk = beanstalkc.Connection(host=\"127.0.0.1\") \n",
      "out_stalk = beanstalkc.Connection(host=\"127.0.0.1\") "
     ],
     "language": "python",
     "metadata": {},
     "outputs": [],
     "prompt_number": 2
    },
    {
     "cell_type": "code",
     "collapsed": false,
     "input": [
      "unique_id = str(uuid4())\n",
      "unique_id"
     ],
     "language": "python",
     "metadata": {},
     "outputs": [
      {
       "metadata": {},
       "output_type": "pyout",
       "prompt_number": 3,
       "text": [
        "'375a4d3f-49a7-4a79-9c86-0d6cdb240a94'"
       ]
      }
     ],
     "prompt_number": 3
    },
    {
     "cell_type": "code",
     "collapsed": false,
     "input": [
      "job_desc = {\n",
      "            \"name\": \"fitzroy\",\n",
      "            \"id\": unique_id,\n",
      "            \"discrete\": 2435466673,\n",
      "            \"real\": 34.23552,\n",
      "            \"tuple\": (43, 34),\n",
      "            \"dict\": {\"yes\": True, \"no\": False, \"I don't know\": None},\n",
      "            \"list\": [4, 2, None, (True, False), [234.2534, \"yay\"]]\n",
      "            }"
     ],
     "language": "python",
     "metadata": {},
     "outputs": [],
     "prompt_number": 4
    },
    {
     "cell_type": "heading",
     "level": 2,
     "metadata": {},
     "source": [
      "`pickle`"
     ]
    },
    {
     "cell_type": "code",
     "collapsed": false,
     "input": [
      "p_dump = pickle.dumps(job_desc, protocol=pickle.HIGHEST_PROTOCOL)\n",
      "in_stalk.put(p_dump)\n",
      "job = out_stalk.reserve()\n",
      "p_load = pickle.loads(job.body)\n",
      "job.delete()\n",
      "p_load"
     ],
     "language": "python",
     "metadata": {},
     "outputs": [
      {
       "metadata": {},
       "output_type": "pyout",
       "prompt_number": 5,
       "text": [
        "{'dict': {\"I don't know\": None, 'no': False, 'yes': True},\n",
        " 'discrete': 2435466673,\n",
        " 'id': '375a4d3f-49a7-4a79-9c86-0d6cdb240a94',\n",
        " 'list': [4, 2, None, (True, False), [234.2534, 'yay']],\n",
        " 'name': 'fitzroy',\n",
        " 'real': 34.23552,\n",
        " 'tuple': (43, 34)}"
       ]
      }
     ],
     "prompt_number": 5
    },
    {
     "cell_type": "code",
     "collapsed": false,
     "input": [
      "%timeit pickle.dumps(job_desc, protocol=pickle.HIGHEST_PROTOCOL)"
     ],
     "language": "python",
     "metadata": {},
     "outputs": [
      {
       "output_type": "stream",
       "stream": "stdout",
       "text": [
        "1000 loops, best of 3: 203 \u00b5s per loop\n"
       ]
      }
     ],
     "prompt_number": 6
    },
    {
     "cell_type": "code",
     "collapsed": false,
     "input": [
      "%timeit pickle.loads(p_dump)"
     ],
     "language": "python",
     "metadata": {},
     "outputs": [
      {
       "output_type": "stream",
       "stream": "stdout",
       "text": [
        "10000 loops, best of 3: 51.9 \u00b5s per loop\n"
       ]
      }
     ],
     "prompt_number": 7
    },
    {
     "cell_type": "code",
     "collapsed": false,
     "input": [
      "%%timeit \n",
      "in_stalk.put(pickle.dumps(job_desc, protocol=pickle.HIGHEST_PROTOCOL))\n",
      "job = out_stalk.reserve()\n",
      "p_load = pickle.loads(job.body)\n",
      "job.delete()"
     ],
     "language": "python",
     "metadata": {},
     "outputs": [
      {
       "output_type": "stream",
       "stream": "stdout",
       "text": [
        "1000 loops, best of 3: 259 \u00b5s per loop\n"
       ]
      }
     ],
     "prompt_number": 8
    },
    {
     "cell_type": "heading",
     "level": 2,
     "metadata": {},
     "source": [
      "`cPickle`"
     ]
    },
    {
     "cell_type": "code",
     "collapsed": false,
     "input": [
      "p_dump = cPickle.dumps(job_desc, protocol=pickle.HIGHEST_PROTOCOL)\n",
      "in_stalk.put(p_dump)\n",
      "job = out_stalk.reserve()\n",
      "p_load = cPickle.loads(job.body)\n",
      "job.delete()\n",
      "p_load"
     ],
     "language": "python",
     "metadata": {},
     "outputs": [
      {
       "metadata": {},
       "output_type": "pyout",
       "prompt_number": 9,
       "text": [
        "{'dict': {\"I don't know\": None, 'no': False, 'yes': True},\n",
        " 'discrete': 2435466673,\n",
        " 'id': '375a4d3f-49a7-4a79-9c86-0d6cdb240a94',\n",
        " 'list': [4, 2, None, (True, False), [234.2534, 'yay']],\n",
        " 'name': 'fitzroy',\n",
        " 'real': 34.23552,\n",
        " 'tuple': (43, 34)}"
       ]
      }
     ],
     "prompt_number": 9
    },
    {
     "cell_type": "code",
     "collapsed": false,
     "input": [
      "%timeit cPickle.dumps(job_desc, protocol=pickle.HIGHEST_PROTOCOL)"
     ],
     "language": "python",
     "metadata": {},
     "outputs": [
      {
       "output_type": "stream",
       "stream": "stdout",
       "text": [
        "100000 loops, best of 3: 4.9 \u00b5s per loop\n"
       ]
      }
     ],
     "prompt_number": 10
    },
    {
     "cell_type": "code",
     "collapsed": false,
     "input": [
      "%timeit cPickle.loads(p_dump)"
     ],
     "language": "python",
     "metadata": {},
     "outputs": [
      {
       "output_type": "stream",
       "stream": "stdout",
       "text": [
        "100000 loops, best of 3: 3.56 \u00b5s per loop\n"
       ]
      }
     ],
     "prompt_number": 11
    },
    {
     "cell_type": "code",
     "collapsed": false,
     "input": [
      "%%timeit \n",
      "in_stalk.put(cPickle.dumps(job_desc, protocol=pickle.HIGHEST_PROTOCOL))\n",
      "job = out_stalk.reserve()\n",
      "p_load = cPickle.loads(job.body)\n",
      "job.delete()"
     ],
     "language": "python",
     "metadata": {},
     "outputs": [
      {
       "output_type": "stream",
       "stream": "stdout",
       "text": [
        "10000 loops, best of 3: 103 \u00b5s per loop\n"
       ]
      }
     ],
     "prompt_number": 12
    },
    {
     "cell_type": "heading",
     "level": 2,
     "metadata": {},
     "source": [
      "`json`"
     ]
    },
    {
     "cell_type": "code",
     "collapsed": false,
     "input": [
      "j_dump = json.dumps(job_desc)\n",
      "in_stalk.put(j_dump)\n",
      "job = out_stalk.reserve()\n",
      "j_load = json.loads(job.body)\n",
      "job.delete()\n",
      "j_load"
     ],
     "language": "python",
     "metadata": {},
     "outputs": [
      {
       "metadata": {},
       "output_type": "pyout",
       "prompt_number": 13,
       "text": [
        "{u'dict': {u\"I don't know\": None, u'no': False, u'yes': True},\n",
        " u'discrete': 2435466673,\n",
        " u'id': u'375a4d3f-49a7-4a79-9c86-0d6cdb240a94',\n",
        " u'list': [4, 2, None, [True, False], [234.2534, u'yay']],\n",
        " u'name': u'fitzroy',\n",
        " u'real': 34.23552,\n",
        " u'tuple': [43, 34]}"
       ]
      }
     ],
     "prompt_number": 13
    },
    {
     "cell_type": "code",
     "collapsed": false,
     "input": [
      "%timeit json.dumps(job_desc)"
     ],
     "language": "python",
     "metadata": {},
     "outputs": [
      {
       "output_type": "stream",
       "stream": "stdout",
       "text": [
        "100000 loops, best of 3: 9.95 \u00b5s per loop\n"
       ]
      }
     ],
     "prompt_number": 14
    },
    {
     "cell_type": "code",
     "collapsed": false,
     "input": [
      "%timeit json.loads(j_dump)"
     ],
     "language": "python",
     "metadata": {},
     "outputs": [
      {
       "output_type": "stream",
       "stream": "stdout",
       "text": [
        "100000 loops, best of 3: 11.3 \u00b5s per loop\n"
       ]
      }
     ],
     "prompt_number": 15
    },
    {
     "cell_type": "code",
     "collapsed": false,
     "input": [
      "%%timeit \n",
      "in_stalk.put(json.dumps(job_desc))\n",
      "job = out_stalk.reserve()\n",
      "j_load = json.loads(job.body)\n",
      "job.delete()"
     ],
     "language": "python",
     "metadata": {},
     "outputs": [
      {
       "output_type": "stream",
       "stream": "stdout",
       "text": [
        "10000 loops, best of 3: 126 \u00b5s per loop\n"
       ]
      }
     ],
     "prompt_number": 16
    },
    {
     "cell_type": "heading",
     "level": 2,
     "metadata": {},
     "source": [
      "`yaml` (without `libyaml`)"
     ]
    },
    {
     "cell_type": "code",
     "collapsed": false,
     "input": [
      "y_dump = yaml.dump(job_desc)\n",
      "in_stalk.put(y_dump)\n",
      "job = out_stalk.reserve()\n",
      "y_load = yaml.load(job.body)\n",
      "job.delete()\n",
      "y_load"
     ],
     "language": "python",
     "metadata": {},
     "outputs": [
      {
       "metadata": {},
       "output_type": "pyout",
       "prompt_number": 17,
       "text": [
        "{'dict': {\"I don't know\": None, 'no': False, 'yes': True},\n",
        " 'discrete': 2435466673,\n",
        " 'id': '375a4d3f-49a7-4a79-9c86-0d6cdb240a94',\n",
        " 'list': [4, 2, None, (True, False), [234.2534, 'yay']],\n",
        " 'name': 'fitzroy',\n",
        " 'real': 34.23552,\n",
        " 'tuple': (43, 34)}"
       ]
      }
     ],
     "prompt_number": 17
    },
    {
     "cell_type": "code",
     "collapsed": false,
     "input": [
      "%timeit yaml.dump(job_desc)"
     ],
     "language": "python",
     "metadata": {},
     "outputs": [
      {
       "output_type": "stream",
       "stream": "stdout",
       "text": [
        "1000 loops, best of 3: 1.48 ms per loop\n"
       ]
      }
     ],
     "prompt_number": 18
    },
    {
     "cell_type": "code",
     "collapsed": false,
     "input": [
      "%timeit yaml.load(y_dump)"
     ],
     "language": "python",
     "metadata": {},
     "outputs": [
      {
       "output_type": "stream",
       "stream": "stdout",
       "text": [
        "100 loops, best of 3: 2.46 ms per loop\n"
       ]
      }
     ],
     "prompt_number": 19
    },
    {
     "cell_type": "code",
     "collapsed": false,
     "input": [
      "%%timeit\n",
      "in_stalk.put(yaml.dump(job_desc))\n",
      "job = out_stalk.reserve()\n",
      "j_load = yaml.load(job.body)\n",
      "job.delete()"
     ],
     "language": "python",
     "metadata": {},
     "outputs": [
      {
       "output_type": "stream",
       "stream": "stdout",
       "text": [
        "100 loops, best of 3: 4.16 ms per loop\n"
       ]
      }
     ],
     "prompt_number": 20
    },
    {
     "cell_type": "heading",
     "level": 2,
     "metadata": {},
     "source": [
      "Conclusion"
     ]
    },
    {
     "cell_type": "markdown",
     "metadata": {},
     "source": [
      "Speed-wise, `cPickle` seems the clear winner (still need test for libyaml). `cPickle` also allows serialization of any kind of Python object."
     ]
    }
   ],
   "metadata": {}
  }
 ]
}